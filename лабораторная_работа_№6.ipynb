{
  "nbformat": 4,
  "nbformat_minor": 0,
  "metadata": {
    "colab": {
      "provenance": [],
      "authorship_tag": "ABX9TyMx1EWbtQ8Qfe5h7jyQ9O0c",
      "include_colab_link": true
    },
    "kernelspec": {
      "name": "python3",
      "display_name": "Python 3"
    },
    "language_info": {
      "name": "python"
    }
  },
  "cells": [
    {
      "cell_type": "markdown",
      "metadata": {
        "id": "view-in-github",
        "colab_type": "text"
      },
      "source": [
        "<a href=\"https://colab.research.google.com/github/amlcarter/Gorlova-Anastasia-PI-311/blob/main/%D0%BB%D0%B0%D0%B1%D0%BE%D1%80%D0%B0%D1%82%D0%BE%D1%80%D0%BD%D0%B0%D1%8F_%D1%80%D0%B0%D0%B1%D0%BE%D1%82%D0%B0_%E2%84%966.ipynb\" target=\"_parent\"><img src=\"https://colab.research.google.com/assets/colab-badge.svg\" alt=\"Open In Colab\"/></a>"
      ]
    },
    {
      "cell_type": "code",
      "source": [
        "import matplotlib.pyplot as plt\n",
        "\n",
        "\n",
        "celsius = [[-67.0], [-34.0], [0], [54.0], [100]]\n",
        "farenheit = [[-88.6], [-29.2], [32.0],[93.2],[129.2]]\n",
        "\n",
        "import numpy as np\n",
        "\n",
        "x_range = np.arange(-70, 120)\n",
        "y_range = x_range*1.8+32\n",
        "\n",
        "plt.figure(figsize=(15,8), dpi=50)\n",
        "plt.scatter(celsius, farenheit, label=\"Входные значения\", color=\"green\", marker=\"$f$\")\n",
        "plt.xlabel(\"celsius\")\n",
        "plt.ylabel(\"farenheit\")\n",
        "plt.legend()\n",
        "plt.grid(True)\n",
        "plt.show()\n",
        "\n",
        "for c,f in zip(celsius, farenheit):\n",
        "  print(f\"цельсия{c}= фаренгейт {f}\")\n",
        "\n",
        "from sklearn.linear_model import LinearRegression\n",
        "\n",
        "lr = LinearRegression()\n",
        "lr.fit(celsius, farenheit)\n",
        "lr.predict([[256], [123]])\n",
        "lr.coef_\n",
        "lr.intercept_\n",
        "celsius_test = [[-50], [10], [30], [20], [10], [70], [87]]\n",
        "farenheit_test = lr.predict(celsius_test)\n",
        "farenheit_test\n",
        "\n",
        "for c,f in zip(celsius_test, farenheit_test):\n",
        "  print(f\"цельсия {c} фаренгейта {f}\" )"
      ],
      "metadata": {
        "colab": {
          "base_uri": "https://localhost:8080/",
          "height": 552
        },
        "id": "yvHbuBbIZzmd",
        "outputId": "8cfa4a4e-41eb-45a6-9b5b-2900efcd741e"
      },
      "execution_count": null,
      "outputs": [
        {
          "output_type": "display_data",
          "data": {
            "text/plain": [
              "<Figure size 750x400 with 1 Axes>"
            ],
            "image/png": "[encoded data removed]"
          },
          "metadata": {
            "needs_background": "light"
          }
        },
        {
          "output_type": "stream",
          "name": "stdout",
          "text": [
            "цельсия[-67.0]= фаренгейт [-88.6]\n",
            "цельсия[-34.0]= фаренгейт [-29.2]\n",
            "цельсия[0]= фаренгейт [32.0]\n",
            "цельсия[54.0]= фаренгейт [93.2]\n",
            "цельсия[100]= фаренгейт [129.2]\n",
            "цельсия [-50] фаренгейта [-51.57743455]\n",
            "цельсия [10] фаренгейта [26.53883728]\n",
            "цельсия [30] фаренгейта [52.57759456]\n",
            "цельсия [20] фаренгейта [39.55821592]\n",
            "цельсия [10] фаренгейта [26.53883728]\n",
            "цельсия [70] фаренгейта [104.65510912]\n",
            "цельсия [87] фаренгейта [126.7880528]\n"
          ]
        }
      ]
    },
    {
      "cell_type": "code",
      "execution_count": null,
      "metadata": {
        "colab": {
          "base_uri": "https://localhost:8080/",
          "height": 654
        },
        "id": "3RNNVAFAYq97",
        "outputId": "2aa25346-81ec-4da1-98e8-af72422a0c2e"
      },
      "outputs": [
        {
          "output_type": "display_data",
          "data": {
            "text/plain": [
              "<Figure size 750x400 with 1 Axes>"
            ],
            "image/png": "[encoded data removed]"
          },
          "metadata": {
            "needs_background": "light"
          }
        },
        {
          "output_type": "stream",
          "name": "stdout",
          "text": [
            "фаренгейт[0]= кельвин[255.372]\n",
            "фаренгейт[10]= кельвин[260.928]\n",
            "фаренгейт[20]= кельвин[266.483]\n",
            "фаренгейт[30]= кельвин[272.039]\n",
            "[[227.5941 ]\n",
            " [260.9277 ]\n",
            " [272.0389 ]\n",
            " [266.4833 ]\n",
            " [260.9277 ]\n",
            " [294.2613 ]\n",
            " [303.70582]]\n",
            "фаренгейта [-50] кельвина [227.5941]\n",
            "фаренгейта [10] кельвина [260.9277]\n",
            "фаренгейта [30] кельвина [272.0389]\n",
            "фаренгейта [20] кельвина [266.4833]\n",
            "фаренгейта [10] кельвина [260.9277]\n",
            "фаренгейта [70] кельвина [294.2613]\n",
            "фаренгейта [87] кельвина [303.70582]\n"
          ]
        }
      ],
      "source": [
        "import matplotlib.pyplot as plt\n",
        "\n",
        "farenheit = [[0], [10],[20], [30]]\n",
        "kelvin = [[255.372], [260.928], [266.483], [272.039]]\n",
        "\n",
        "import numpy as np\n",
        "\n",
        "x_range = np.arange(-70, 120)\n",
        "y_range = x_range*1.8+32\n",
        "\n",
        "plt.figure(figsize=(15,8), dpi=50)\n",
        "plt.scatter(farenheit, kelvin, label=\"Входные значения\", color=\"green\", marker=\"$f$\")\n",
        "plt.xlabel(\"farenheit\")\n",
        "plt.ylabel(\"kelvin\")\n",
        "plt.legend()\n",
        "plt.grid(True)\n",
        "plt.show()\n",
        "\n",
        "for c,f in zip(farenheit, kelvin):\n",
        "  print(f\"фаренгейт{c}= кельвин{f}\")\n",
        "\n",
        "from sklearn.linear_model import LinearRegression\n",
        "\n",
        "lr = LinearRegression()\n",
        "lr.fit(farenheit, kelvin)\n",
        "lr.predict([[256], [123]])\n",
        "lr.coef_\n",
        "lr.intercept_\n",
        "farenheit_test = [[-50], [10], [30], [20], [10], [70], [87]]\n",
        "kelvin_test = lr.predict(celsius_test)\n",
        "print(kelvin_test)\n",
        "\n",
        "for c,f in zip(farenheit_test, kelvin_test):\n",
        "  print(f\"фаренгейта {c} кельвина {f}\" )"
      ]
    },
    {
      "cell_type": "code",
      "source": [
        "import matplotlib.pyplot as plt\n",
        "import numpy as np\n",
        "\n",
        "names = ['group_a', 'group_b', 'group_c']\n",
        "values = [1, 10, 100]\n",
        "\n",
        "plt.figure(figsize=(9, 3))\n",
        "\n",
        "plt.subplot(131)\n",
        "plt.bar(names, values)\n",
        "plt.subplot(132)\n",
        "plt.scatter(names, values)\n",
        "plt.subplot(133)\n",
        "plt.plot(names, values)\n",
        "plt.show()"
      ],
      "metadata": {
        "colab": {
          "base_uri": "https://localhost:8080/",
          "height": 212
        },
        "id": "eVD89F2mZhXP",
        "outputId": "45c0426c-ea72-4b10-9ff4-77b83a7f1337"
      },
      "execution_count": null,
      "outputs": [
        {
          "output_type": "display_data",
          "data": {
            "text/plain": [
              "<Figure size 648x216 with 3 Axes>"
            ],
            "image/png": "[encoded data removed]"
          },
          "metadata": {
            "needs_background": "light"
          }
        }
      ]
    },
    {
      "cell_type": "code",
      "source": [
        "import math\n",
        "print(math.e)\n",
        "print(math.pi)\n",
        "print(math.nan)\n",
        "print(math.factorial(7))\n",
        "print(math.gcd(7, 64))"
      ],
      "metadata": {
        "colab": {
          "base_uri": "https://localhost:8080/"
        },
        "id": "QlbrBT27ZlX2",
        "outputId": "cbd4e33b-1ef4-48c6-dea4-39248dd1089c"
      },
      "execution_count": null,
      "outputs": [
        {
          "output_type": "stream",
          "name": "stdout",
          "text": [
            "2.718281828459045\n",
            "3.141592653589793\n",
            "nan\n",
            "5040\n",
            "1\n"
          ]
        }
      ]
    }
  ]
}